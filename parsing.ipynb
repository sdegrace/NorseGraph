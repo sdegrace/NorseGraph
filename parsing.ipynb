{
 "cells": [
  {
   "cell_type": "code",
   "execution_count": 11,
   "metadata": {
    "collapsed": true
   },
   "outputs": [],
   "source": [
    "from wiktionaryparser import WiktionaryParser\n",
    "parser = WiktionaryParser()\n"
   ]
  },
  {
   "cell_type": "code",
   "execution_count": 12,
   "outputs": [],
   "source": [
    "word = parser.fetch('test')"
   ],
   "metadata": {
    "collapsed": false,
    "pycharm": {
     "name": "#%%\n"
    }
   }
  },
  {
   "cell_type": "code",
   "execution_count": 13,
   "outputs": [],
   "source": [
    "\n",
    "another_word = parser.fetch('test', 'french')"
   ],
   "metadata": {
    "collapsed": false,
    "pycharm": {
     "name": "#%%\n"
    }
   }
  },
  {
   "cell_type": "code",
   "execution_count": 14,
   "outputs": [],
   "source": [
    "\n",
    "parser.set_default_language('french')\n",
    "\n",
    "#%"
   ],
   "metadata": {
    "collapsed": false,
    "pycharm": {
     "name": "#%%\n"
    }
   }
  },
  {
   "cell_type": "code",
   "execution_count": 15,
   "outputs": [],
   "source": [
    "\n",
    "parser.include_relation('alternative forms')"
   ],
   "metadata": {
    "collapsed": false,
    "pycharm": {
     "name": "#%%\n"
    }
   }
  },
  {
   "cell_type": "code",
   "execution_count": 16,
   "outputs": [
    {
     "data": {
      "text/plain": "[{'etymology': 'From Middle English test, teste, from Old French test, teste (“an earthen vessel, especially a pot in which metals were tried”), from Latin testum (“the lid of an earthen vessel, an earthen vessel, an earthen pot”), from *terstus, past participle of the root *tersa (“dry land”). See terra, thirst.\\n',\n  'definitions': [{'partOfSpeech': 'noun',\n    'text': ['test (plural tests)',\n     'A challenge, trial.',\n     'A cupel or cupelling hearth in which precious metals are melted for trial and refinement.',\n     '(academia) An examination, given often during the academic term.',\n     'A session in which a product or piece of equipment is examined under everyday or extreme conditions to evaluate its durability, etc.',\n     '(cricket, normally “Test”) A Test match.',\n     '(marine biology) The external calciferous shell, or endoskeleton, of an echinoderm, e.g. sand dollars and sea urchins.',\n     '(botany) Testa; seed coat.',\n     '(obsolete) Judgment; distinction; discrimination.'],\n    'relatedWords': [{'relationshipType': 'synonyms',\n      'words': ['(challenge, trial): See Thesaurus:test',\n       '(academics: examination): examination, quiz']},\n     {'relationshipType': 'antonyms',\n      'words': ['(academics: examination): recess']},\n     {'relationshipType': 'hyponyms',\n      'words': ['acid test',\n       'babysitter test',\n       'blood test',\n       'duck test',\n       'field test',\n       'flame test',\n       'inkblot test',\n       'litmus test',\n       'multiple-choice test',\n       'nose test',\n       'Rorschach test',\n       'single-choice test',\n       'smell test',\n       'smoke test',\n       'sniff test',\n       'software test',\n       'stress test']}],\n    'examples': ['Numerous experimental tests and other observations have been offered in favor of animal mind reading, and although many scientists are skeptical, others assert that humans are not the only species capable of representing what others do and don’t perceive and know.',\n     'Who would excel, when few can make a test / Betwixt indifferent writing and the best?']},\n   {'partOfSpeech': 'verb',\n    'text': ['test (third-person singular simple present tests, present participle testing, simple past and past participle tested)',\n     'To challenge.',\n     'To refine (gold, silver, etc.) in a test or cupel; to subject to cupellation.',\n     'To put to the proof; to prove the truth, genuineness, or quality of by experiment, or by some principle or standard; to try.',\n     '(academics) To administer or assign an examination, often given during the academic term, to (somebody).',\n     'To place a product or piece of equipment under everyday and/or extreme conditions and examine it for its durability, etc.',\n     '(copulative) To be shown to be by test.',\n     '(chemistry) To examine or try, as by the use of some reagent.'],\n    'relatedWords': [],\n    'examples': ['Climbing the mountain tested our stamina.',\n     'to test the soundness of a principle; to test the validity of an argument',\n     'Experience is the surest standard by which to test the real tendency of the existing constitution.',\n     'Similar studies of rats have employed four different intracranial resorbable, slow sustained release systems—\\xa0[…]. Such a slow-release device containing angiogenic factors could be placed on the pia mater covering the cerebral cortex and tested in persons with senile dementia in long term studies.',\n     'He tested positive for cancer.',\n     'It is probable that children who test above 180 IQ are actually present in our juvenile population in greater frequency than at the rate of one in a million.',\n     'to test a solution by litmus paper']}],\n  'pronunciations': {'text': ['IPA: /tɛst/',\n    'Rhymes: -ɛst',\n    '(South African) IPA: /test/'],\n   'audio': ['//upload.wikimedia.org/wikipedia/commons/9/9c/En-us-test.ogg',\n    '//upload.wikimedia.org/wikipedia/commons/d/d5/En-uk-a_test.ogg']}},\n {'etymology': 'From Middle English teste, from Old French teste, test and Latin testis (“one who attests, a witness”).\\n',\n  'definitions': [{'partOfSpeech': 'noun',\n    'text': ['test (plural tests)', '(obsolete) A witness.'],\n    'relatedWords': [],\n    'examples': ['Prelates and great lords of England, who were for the more surety tests of that deed.']},\n   {'partOfSpeech': 'verb',\n    'text': ['test (third-person singular simple present tests, present participle testing, simple past and past participle tested)',\n     '(obsolete, transitive) To attest (a document) legally, and date it.',\n     '(obsolete, intransitive) To make a testament, or will.'],\n    'relatedWords': [{'relationshipType': 'related terms',\n      'words': ['attest', 'contest', 'detest', 'protest']}],\n    'examples': []}],\n  'pronunciations': {'text': ['IPA: /tɛst/',\n    'Rhymes: -ɛst',\n    '(South African) IPA: /test/'],\n   'audio': ['//upload.wikimedia.org/wikipedia/commons/9/9c/En-us-test.ogg',\n    '//upload.wikimedia.org/wikipedia/commons/d/d5/En-uk-a_test.ogg']}},\n {'etymology': 'Clipping of testosterone.\\n',\n  'definitions': [{'partOfSpeech': 'noun',\n    'text': ['test (uncountable)',\n     '(informal, slang, body building) testosterone'],\n    'relatedWords': [],\n    'examples': []}],\n  'pronunciations': {'text': ['IPA: /tɛst/',\n    'Rhymes: -ɛst',\n    '(South African) IPA: /test/'],\n   'audio': ['//upload.wikimedia.org/wikipedia/commons/9/9c/En-us-test.ogg',\n    '//upload.wikimedia.org/wikipedia/commons/d/d5/En-uk-a_test.ogg']}}]"
     },
     "execution_count": 16,
     "metadata": {},
     "output_type": "execute_result"
    }
   ],
   "source": [
    "word"
   ],
   "metadata": {
    "collapsed": false,
    "pycharm": {
     "name": "#%%\n"
    }
   }
  },
  {
   "cell_type": "code",
   "execution_count": 17,
   "outputs": [],
   "source": [
    "parser.set_default_language('old norse')"
   ],
   "metadata": {
    "collapsed": false,
    "pycharm": {
     "name": "#%%\n"
    }
   }
  },
  {
   "cell_type": "code",
   "execution_count": 18,
   "outputs": [
    {
     "data": {
      "text/plain": "[{'etymology': 'From Latin abbātissa',\n  'definitions': [{'partOfSpeech': 'noun',\n    'text': ['abbadissa\\xa0f (genitive weak, plural ōn)', 'abbess'],\n    'relatedWords': [],\n    'examples': []}],\n  'pronunciations': {'text': [], 'audio': []}}]"
     },
     "execution_count": 18,
     "metadata": {},
     "output_type": "execute_result"
    }
   ],
   "source": [
    "parser.fetch('abbadissa')"
   ],
   "metadata": {
    "collapsed": false,
    "pycharm": {
     "name": "#%%\n"
    }
   }
  },
  {
   "cell_type": "code",
   "execution_count": 18,
   "outputs": [],
   "source": [],
   "metadata": {
    "collapsed": false,
    "pycharm": {
     "name": "#%%\n"
    }
   }
  }
 ],
 "metadata": {
  "kernelspec": {
   "display_name": "Python 3",
   "language": "python",
   "name": "python3"
  },
  "language_info": {
   "codemirror_mode": {
    "name": "ipython",
    "version": 2
   },
   "file_extension": ".py",
   "mimetype": "text/x-python",
   "name": "python",
   "nbconvert_exporter": "python",
   "pygments_lexer": "ipython2",
   "version": "2.7.6"
  }
 },
 "nbformat": 4,
 "nbformat_minor": 0
}